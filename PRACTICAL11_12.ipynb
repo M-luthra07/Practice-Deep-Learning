{
  "nbformat": 4,
  "nbformat_minor": 0,
  "metadata": {
    "colab": {
      "provenance": [],
      "authorship_tag": "ABX9TyPhY4czO2u4bxa/m1Gfxwr1",
      "include_colab_link": true
    },
    "kernelspec": {
      "name": "python3",
      "display_name": "Python 3"
    },
    "language_info": {
      "name": "python"
    }
  },
  "cells": [
    {
      "cell_type": "markdown",
      "metadata": {
        "id": "view-in-github",
        "colab_type": "text"
      },
      "source": [
        "<a href=\"https://colab.research.google.com/github/M-luthra07/Practice-Deep-Learning/blob/main/PRACTICAL11_12.ipynb\" target=\"_parent\"><img src=\"https://colab.research.google.com/assets/colab-badge.svg\" alt=\"Open In Colab\"/></a>"
      ]
    },
    {
      "cell_type": "code",
      "execution_count": null,
      "metadata": {
        "colab": {
          "base_uri": "https://localhost:8080/"
        },
        "id": "oZ0ZvkFLw0nr",
        "outputId": "06a86906-7487-4e00-b4ff-62d68142d124"
      },
      "outputs": [
        {
          "output_type": "stream",
          "name": "stderr",
          "text": [
            "[nltk_data] Downloading package punkt to /root/nltk_data...\n",
            "[nltk_data]   Package punkt is already up-to-date!\n",
            "[nltk_data] Downloading package wordnet to /root/nltk_data...\n",
            "[nltk_data] Downloading package stopwords to /root/nltk_data...\n",
            "[nltk_data]   Package stopwords is already up-to-date!\n"
          ]
        },
        {
          "output_type": "stream",
          "name": "stdout",
          "text": [
            "Original Tokens: ['Lemmatization', 'is', 'the', 'process', 'of', 'reducing', 'words', 'to', 'their', 'base', 'form', '.', 'Stopwords', 'are', 'common', 'words', 'that', 'are', 'often', 'removed', '.']\n",
            "Tokens after stopword removal: ['Lemmatization', 'process', 'reducing', 'words', 'base', 'form', '.', 'Stopwords', 'common', 'words', 'often', 'removed', '.']\n",
            "Lemmatized Tokens: ['Lemmatization', 'process', 'reducing', 'word', 'base', 'form', '.', 'Stopwords', 'common', 'word', 'often', 'removed', '.']\n",
            "Stemmed Words: ['lemmat', 'is', 'the', 'process', 'of', 'reduc', 'word', 'to', 'their', 'base', 'form', '.', 'stopword', 'are', 'common', 'word', 'that', 'are', 'often', 'remov', '.']\n",
            "Tokens after stopword removal: ['Lemmatization', 'process', 'reducing', 'words', 'base', 'form', '.', 'Stopwords', 'common', 'words', 'often', 'removed', '.']\n",
            "Lemmatized Tokens: ['Lemmatization', 'process', 'reducing', 'word', 'base', 'form', '.', 'Stopwords', 'common', 'word', 'often', 'removed', '.']\n"
          ]
        }
      ],
      "source": [
        "import nltk\n",
        "from nltk.tokenize import word_tokenize\n",
        "from nltk.stem import WordNetLemmatizer\n",
        "from nltk.corpus import stopwords\n",
        "\n",
        "# Download necessary NLTK data\n",
        "nltk.download('punkt')\n",
        "nltk.download('wordnet')\n",
        "nltk.download('stopwords')\n",
        "\n",
        "# Sample text data\n",
        "text = \"Lemmatization is the process of reducing words to their base form. Stopwords are common words that are often removed.\"\n",
        "\n",
        "# Step 1: Tokenization\n",
        "tokens = word_tokenize(text)\n",
        "print(\"Original Tokens:\", tokens)\n",
        "\n",
        "# Step 2: Remove stopwords\n",
        "stop_words = set(stopwords.words('english'))\n",
        "filtered_tokens = [word for word in tokens if word.lower() not in stop_words]\n",
        "print(\"Tokens after stopword removal:\", filtered_tokens)\n",
        "\n",
        "# Step 3: Lemmatization\n",
        "lemmatizer = WordNetLemmatizer()\n",
        "lemmatized_tokens = [lemmatizer.lemmatize(token) for token in filtered_tokens]\n",
        "print(\"Lemmatized Tokens:\", lemmatized_tokens)\n",
        "# Step 2: Stemming\n",
        "stemmer = PorterStemmer()\n",
        "stemmed_words = [stemmer.stem(token) for token in tokens]\n",
        "print(\"Stemmed Words:\", stemmed_words)\n",
        "\n",
        "stop_words = set(stopwords.words('english'))\n",
        "filtered_tokens = [word for word in tokens if word.lower() not in stop_words]\n",
        "print(\"Tokens after stopword removal:\", filtered_tokens)\n",
        "lemmatizer = WordNetLemmatizer()\n",
        "lemmatized_tokens = [lemmatizer.lemmatize(token) for token in filtered_tokens]\n",
        "print(\"Lemmatized Tokens:\", lemmatized_tokens)"
      ]
    },
    {
      "cell_type": "code",
      "source": [
        "import spacy\n",
        "\n",
        "# Load English language model\n",
        "nlp = spacy.load('en_core_web_sm')\n",
        "\n",
        "def spacy_text_processing(text):\n",
        "    doc = nlp(text.lower())\n",
        "    processed_tokens = [token.lemma_ for token in doc\n",
        "                       if not token.is_stop and token.is_alpha]\n",
        "    return ' '.join(processed_tokens)\n",
        "\n",
        "# Example usage\n",
        "text = \"The cats are running and jumping over the fences\"\n",
        "processed_text = spacy_text_processing(text)\n",
        "print(\"Spacy Processed Text:\", processed_text)"
      ],
      "metadata": {
        "id": "Z28Gd2K7CJDE",
        "colab": {
          "base_uri": "https://localhost:8080/"
        },
        "outputId": "c21011c8-3e66-4263-82ac-aaaf724232f9"
      },
      "execution_count": null,
      "outputs": [
        {
          "output_type": "stream",
          "name": "stdout",
          "text": [
            "Spacy Processed Text: cat run jump fence\n"
          ]
        }
      ]
    },
    {
      "cell_type": "code",
      "source": [
        "from sklearn.feature_extraction.text import CountVectorizer\n",
        "\n",
        "corpus = [\n",
        "    'This is the first document.',\n",
        "    'This document is the second document.',\n",
        "    'And this is the third one.',\n",
        "    'Is this the first document?',\n",
        "]\n",
        "\n",
        "# Using preprocessor from previous examples\n",
        "count_vectorizer = CountVectorizer(preprocessor=spacy_text_processing)\n",
        "bow_matrix = count_vectorizer.fit_transform(corpus)\n",
        "\n",
        "print(\"Bag-of-Words Matrix:\")\n",
        "print(bow_matrix.toarray())\n",
        "print(\"Vocabulary:\", count_vectorizer.get_feature_names_out())"
      ],
      "metadata": {
        "colab": {
          "base_uri": "https://localhost:8080/"
        },
        "id": "TMy_R-RvEuPQ",
        "outputId": "59a593e3-589d-4b00-b3d9-74a671590950"
      },
      "execution_count": null,
      "outputs": [
        {
          "output_type": "stream",
          "name": "stdout",
          "text": [
            "Bag-of-Words Matrix:\n",
            "[[1 0]\n",
            " [2 1]\n",
            " [0 0]\n",
            " [1 0]]\n",
            "Vocabulary: ['document' 'second']\n"
          ]
        }
      ]
    },
    {
      "cell_type": "code",
      "source": [
        "from sklearn.feature_extraction.text import CountVectorizer\n",
        "\n",
        "ngram_vectorizer = CountVectorizer(ngram_range=(2, 2), preprocessor=spacy_text_processing)\n",
        "ngram_matrix = ngram_vectorizer.fit_transform(corpus)\n",
        "\n",
        "print(\"\\nBigram Matrix:\")\n",
        "print(ngram_matrix.toarray())\n",
        "print(\"Bigram Vocabulary:\", ngram_vectorizer.get_feature_names_out())"
      ],
      "metadata": {
        "colab": {
          "base_uri": "https://localhost:8080/"
        },
        "id": "Z-lg6RzeExM-",
        "outputId": "fb5f48eb-af4d-4e65-a3f7-7e326c36739d"
      },
      "execution_count": null,
      "outputs": [
        {
          "output_type": "stream",
          "name": "stdout",
          "text": [
            "\n",
            "Bigram Matrix:\n",
            "[[0 0]\n",
            " [1 1]\n",
            " [0 0]\n",
            " [0 0]]\n",
            "Bigram Vocabulary: ['document second' 'second document']\n"
          ]
        }
      ]
    },
    {
      "cell_type": "code",
      "source": [
        "from sklearn.feature_extraction.text import TfidfVectorizer\n",
        "\n",
        "tfidf_vectorizer = TfidfVectorizer(preprocessor=spacy_text_processing)\n",
        "tfidf_matrix = tfidf_vectorizer.fit_transform(corpus)\n",
        "\n",
        "print(\"\\nTF-IDF Matrix:\")\n",
        "print(tfidf_matrix.toarray())\n",
        "print(\"TF-IDF Vocabulary:\", tfidf_vectorizer.get_feature_names_out())"
      ],
      "metadata": {
        "id": "nZIAJSZEE0qq",
        "outputId": "3b88e46b-bd4a-4835-dd52-f2dafd3d9f97",
        "colab": {
          "base_uri": "https://localhost:8080/"
        }
      },
      "execution_count": null,
      "outputs": [
        {
          "output_type": "stream",
          "name": "stdout",
          "text": [
            "\n",
            "TF-IDF Matrix:\n",
            "[[1.         0.        ]\n",
            " [0.78722298 0.61666846]\n",
            " [0.         0.        ]\n",
            " [1.         0.        ]]\n",
            "TF-IDF Vocabulary: ['document' 'second']\n"
          ]
        }
      ]
    }
  ]
}